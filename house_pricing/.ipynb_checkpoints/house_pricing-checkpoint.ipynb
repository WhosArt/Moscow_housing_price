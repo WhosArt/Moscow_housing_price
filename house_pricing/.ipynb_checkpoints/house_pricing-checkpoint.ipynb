{
 "cells": [
  {
   "cell_type": "code",
   "execution_count": 1,
   "id": "56738702-2c01-47f9-b574-813d98779714",
   "metadata": {},
   "outputs": [],
   "source": [
    "import pandas as pd"
   ]
  },
  {
   "cell_type": "code",
   "execution_count": 3,
   "id": "fa8fc14c-d176-41c2-b8c0-2c19d6565cfc",
   "metadata": {},
   "outputs": [],
   "source": [
    "df = pd.read_csv('../archive.zip', compression='zip')"
   ]
  },
  {
   "cell_type": "code",
   "execution_count": 4,
   "id": "070f9f13-4248-4c7c-8759-ef2ad317c937",
   "metadata": {},
   "outputs": [
    {
     "data": {
      "text/html": [
       "<div>\n",
       "<style scoped>\n",
       "    .dataframe tbody tr th:only-of-type {\n",
       "        vertical-align: middle;\n",
       "    }\n",
       "\n",
       "    .dataframe tbody tr th {\n",
       "        vertical-align: top;\n",
       "    }\n",
       "\n",
       "    .dataframe thead th {\n",
       "        text-align: right;\n",
       "    }\n",
       "</style>\n",
       "<table border=\"1\" class=\"dataframe\">\n",
       "  <thead>\n",
       "    <tr style=\"text-align: right;\">\n",
       "      <th></th>\n",
       "      <th>Price</th>\n",
       "      <th>Apartment type</th>\n",
       "      <th>Metro station</th>\n",
       "      <th>Minutes to metro</th>\n",
       "      <th>Region</th>\n",
       "      <th>Number of rooms</th>\n",
       "      <th>Area</th>\n",
       "      <th>Living area</th>\n",
       "      <th>Kitchen area</th>\n",
       "      <th>Floor</th>\n",
       "      <th>Number of floors</th>\n",
       "      <th>Renovation</th>\n",
       "    </tr>\n",
       "  </thead>\n",
       "  <tbody>\n",
       "    <tr>\n",
       "      <th>0</th>\n",
       "      <td>6300000.0</td>\n",
       "      <td>Secondary</td>\n",
       "      <td>Опалиха</td>\n",
       "      <td>6.0</td>\n",
       "      <td>Moscow region</td>\n",
       "      <td>1.0</td>\n",
       "      <td>30.6</td>\n",
       "      <td>11.1</td>\n",
       "      <td>8.5</td>\n",
       "      <td>25.0</td>\n",
       "      <td>25</td>\n",
       "      <td>Cosmetic</td>\n",
       "    </tr>\n",
       "    <tr>\n",
       "      <th>1</th>\n",
       "      <td>9000000.0</td>\n",
       "      <td>Secondary</td>\n",
       "      <td>Павшино</td>\n",
       "      <td>2.0</td>\n",
       "      <td>Moscow region</td>\n",
       "      <td>1.0</td>\n",
       "      <td>49.2</td>\n",
       "      <td>20.0</td>\n",
       "      <td>10.0</td>\n",
       "      <td>6.0</td>\n",
       "      <td>15</td>\n",
       "      <td>European-style renovation</td>\n",
       "    </tr>\n",
       "    <tr>\n",
       "      <th>2</th>\n",
       "      <td>11090000.0</td>\n",
       "      <td>Secondary</td>\n",
       "      <td>Мякинино</td>\n",
       "      <td>14.0</td>\n",
       "      <td>Moscow region</td>\n",
       "      <td>1.0</td>\n",
       "      <td>44.7</td>\n",
       "      <td>16.2</td>\n",
       "      <td>13.1</td>\n",
       "      <td>10.0</td>\n",
       "      <td>25</td>\n",
       "      <td>Cosmetic</td>\n",
       "    </tr>\n",
       "    <tr>\n",
       "      <th>3</th>\n",
       "      <td>8300000.0</td>\n",
       "      <td>Secondary</td>\n",
       "      <td>Строгино</td>\n",
       "      <td>8.0</td>\n",
       "      <td>Moscow region</td>\n",
       "      <td>1.0</td>\n",
       "      <td>35.1</td>\n",
       "      <td>16.0</td>\n",
       "      <td>11.0</td>\n",
       "      <td>12.0</td>\n",
       "      <td>33</td>\n",
       "      <td>European-style renovation</td>\n",
       "    </tr>\n",
       "    <tr>\n",
       "      <th>4</th>\n",
       "      <td>6450000.0</td>\n",
       "      <td>Secondary</td>\n",
       "      <td>Опалиха</td>\n",
       "      <td>6.0</td>\n",
       "      <td>Moscow region</td>\n",
       "      <td>1.0</td>\n",
       "      <td>37.7</td>\n",
       "      <td>15.2</td>\n",
       "      <td>4.0</td>\n",
       "      <td>5.0</td>\n",
       "      <td>5</td>\n",
       "      <td>Without renovation</td>\n",
       "    </tr>\n",
       "  </tbody>\n",
       "</table>\n",
       "</div>"
      ],
      "text/plain": [
       "        Price Apartment type Metro station  Minutes to metro         Region  \\\n",
       "0   6300000.0      Secondary       Опалиха               6.0  Moscow region   \n",
       "1   9000000.0      Secondary       Павшино               2.0  Moscow region   \n",
       "2  11090000.0      Secondary      Мякинино              14.0  Moscow region   \n",
       "3   8300000.0      Secondary      Строгино               8.0  Moscow region   \n",
       "4   6450000.0      Secondary       Опалиха               6.0  Moscow region   \n",
       "\n",
       "   Number of rooms  Area  Living area  Kitchen area  Floor  Number of floors  \\\n",
       "0              1.0  30.6         11.1           8.5   25.0                25   \n",
       "1              1.0  49.2         20.0          10.0    6.0                15   \n",
       "2              1.0  44.7         16.2          13.1   10.0                25   \n",
       "3              1.0  35.1         16.0          11.0   12.0                33   \n",
       "4              1.0  37.7         15.2           4.0    5.0                 5   \n",
       "\n",
       "                  Renovation  \n",
       "0                   Cosmetic  \n",
       "1  European-style renovation  \n",
       "2                   Cosmetic  \n",
       "3  European-style renovation  \n",
       "4         Without renovation  "
      ]
     },
     "execution_count": 4,
     "metadata": {},
     "output_type": "execute_result"
    }
   ],
   "source": [
    "df.head()"
   ]
  },
  {
   "cell_type": "code",
   "execution_count": null,
   "id": "5b6c6c74-fa2b-45e2-a59f-ee3b618ca862",
   "metadata": {},
   "outputs": [],
   "source": []
  },
  {
   "cell_type": "code",
   "execution_count": null,
   "id": "684eb974-3240-4b12-9b8c-d30551c3d370",
   "metadata": {},
   "outputs": [],
   "source": []
  },
  {
   "cell_type": "markdown",
   "id": "9570272b-d02e-4edb-8373-a9ae1c5ff631",
   "metadata": {},
   "source": [
    "**1. What are the most common types of apartments in the region?**"
   ]
  },
  {
   "cell_type": "code",
   "execution_count": 9,
   "id": "daa1ee14-3010-4dcf-8142-ce052f726f69",
   "metadata": {},
   "outputs": [
    {
     "data": {
      "text/plain": [
       "Apartment type\n",
       "Secondary       13152\n",
       "New building     9524\n",
       "Name: count, dtype: int64"
      ]
     },
     "execution_count": 9,
     "metadata": {},
     "output_type": "execute_result"
    }
   ],
   "source": [
    "df['Apartment type'].value_counts()"
   ]
  },
  {
   "cell_type": "code",
   "execution_count": null,
   "id": "b9ecad6d-0880-4bd6-aee3-c13c33f6fff5",
   "metadata": {},
   "outputs": [],
   "source": []
  },
  {
   "cell_type": "markdown",
   "id": "3f73497b-0d82-44e6-b8c0-6de3ad32a48e",
   "metadata": {},
   "source": [
    "**2. Is there a relationship between housing prices and proximity to metro stations?**"
   ]
  },
  {
   "cell_type": "markdown",
   "id": "28cb42ff-b4da-462c-9ffd-652466784d44",
   "metadata": {},
   "source": [
    "**3. How does the level of renovation affect the price of an apartment?**"
   ]
  },
  {
   "cell_type": "markdown",
   "id": "78cddeab-dfde-4fe8-9d66-928aad876c86",
   "metadata": {},
   "source": [
    "**4. Is there a price difference in housing between Moscow and the Moscow Oblast region?**"
   ]
  },
  {
   "cell_type": "markdown",
   "id": "df6e5399-7dfc-487c-b26e-2f9032f5429b",
   "metadata": {},
   "source": [
    "**5. Are there any preferences regarding floor levels?**"
   ]
  },
  {
   "cell_type": "markdown",
   "id": "2081acb5-178c-4551-839f-8436b284d9d8",
   "metadata": {},
   "source": [
    "**6. Which factors have the greatest impact on housing prices?**"
   ]
  },
  {
   "cell_type": "code",
   "execution_count": null,
   "id": "7cd36cf6-3c0f-4f0d-86b0-2894f4330c5d",
   "metadata": {},
   "outputs": [],
   "source": []
  }
 ],
 "metadata": {
  "kernelspec": {
   "display_name": "Python 3 (ipykernel)",
   "language": "python",
   "name": "python3"
  },
  "language_info": {
   "codemirror_mode": {
    "name": "ipython",
    "version": 3
   },
   "file_extension": ".py",
   "mimetype": "text/x-python",
   "name": "python",
   "nbconvert_exporter": "python",
   "pygments_lexer": "ipython3",
   "version": "3.13.5"
  }
 },
 "nbformat": 4,
 "nbformat_minor": 5
}
