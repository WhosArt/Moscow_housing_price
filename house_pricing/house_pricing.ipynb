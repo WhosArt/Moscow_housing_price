{
 "cells": [
  {
   "cell_type": "markdown",
   "id": "fcd1efd8-622f-41a2-83ec-611eb9f6d5f1",
   "metadata": {
    "collapsed": true,
    "jupyter": {
     "outputs_hidden": true
    },
    "scrolled": true
   },
   "source": [
    "# Moscow Housing Price"
   ]
  },
  {
   "cell_type": "code",
   "execution_count": 1,
   "id": "56738702-2c01-47f9-b574-813d98779714",
   "metadata": {},
   "outputs": [],
   "source": [
    "# Для анализа данных и обработки\n",
    "import pandas as pd\n",
    "import statsmodels.api as sm\n",
    "\n",
    "# Для визуализации данных\n",
    "import matplotlib.pyplot as plt\n",
    "import seaborn as sns\n",
    "\n",
    "%matplotlib inline"
   ]
  },
  {
   "cell_type": "markdown",
   "id": "4f212723-adb6-4ec8-9bf8-60d6a1a43034",
   "metadata": {},
   "source": [
    "# Вопросы исследования и их цели\n",
    "\n",
    "- **Какие типы квартир наиболее распространены в регионе?**  \n",
    "  Это поможет понять структуру рынка жилья и определить наиболее популярные типы недвижимости для дальнейшего анализа спроса и предложения.\n",
    "\n",
    "- **Существует ли связь между ценами на жилье и близостью к станциям метро?**  \n",
    "  Это важно для выявления влияния транспортной инфраструктуры на стоимость жилья и определения лучших локаций для инвестиций и развития.\n",
    "\n",
    "- **Как уровень ремонта влияет на стоимость квартиры?**  \n",
    "  Это позволит понять, насколько качество отделки и состояние квартиры сказываются на ее ценовой политике, что важно для оценки стоимости и стратегий продажи.\n",
    "\n",
    "- **Есть ли разница в ценах на жилье между Москвой и Московской областью?**  \n",
    "  Это поможет выявить ценовые различия между регионами и определить особенности рынка в каждом из них для более точного ценообразования.\n",
    "\n",
    "- **Есть ли предпочтения по этажам?**  \n",
    "  Это необходимо для выявления предпочтений покупателей и арендаторов по этажам, что может влиять на маркетинговые стратегии и ценообразование.\n",
    "\n",
    "- **Какие факторы оказывают наибольшее влияние на цену жилья?**  \n",
    "  Это поможет определить ключевые параметры, влияющие на стоимость недвижимости, и сосредоточиться на них при оценке рынка и планировании продаж."
   ]
  },
  {
   "cell_type": "code",
   "execution_count": 2,
   "id": "fa8fc14c-d176-41c2-b8c0-2c19d6565cfc",
   "metadata": {
    "scrolled": true
   },
   "outputs": [
    {
     "data": {
      "text/html": [
       "<div>\n",
       "<style scoped>\n",
       "    .dataframe tbody tr th:only-of-type {\n",
       "        vertical-align: middle;\n",
       "    }\n",
       "\n",
       "    .dataframe tbody tr th {\n",
       "        vertical-align: top;\n",
       "    }\n",
       "\n",
       "    .dataframe thead th {\n",
       "        text-align: right;\n",
       "    }\n",
       "</style>\n",
       "<table border=\"1\" class=\"dataframe\">\n",
       "  <thead>\n",
       "    <tr style=\"text-align: right;\">\n",
       "      <th></th>\n",
       "      <th>Price</th>\n",
       "      <th>Apartment type</th>\n",
       "      <th>Metro station</th>\n",
       "      <th>Minutes to metro</th>\n",
       "      <th>Region</th>\n",
       "      <th>Number of rooms</th>\n",
       "      <th>Area</th>\n",
       "      <th>Living area</th>\n",
       "      <th>Kitchen area</th>\n",
       "      <th>Floor</th>\n",
       "      <th>Number of floors</th>\n",
       "      <th>Renovation</th>\n",
       "    </tr>\n",
       "  </thead>\n",
       "  <tbody>\n",
       "    <tr>\n",
       "      <th>0</th>\n",
       "      <td>6300000.0</td>\n",
       "      <td>Secondary</td>\n",
       "      <td>Опалиха</td>\n",
       "      <td>6.0</td>\n",
       "      <td>Moscow region</td>\n",
       "      <td>1.0</td>\n",
       "      <td>30.6</td>\n",
       "      <td>11.1</td>\n",
       "      <td>8.5</td>\n",
       "      <td>25.0</td>\n",
       "      <td>25</td>\n",
       "      <td>Cosmetic</td>\n",
       "    </tr>\n",
       "    <tr>\n",
       "      <th>1</th>\n",
       "      <td>9000000.0</td>\n",
       "      <td>Secondary</td>\n",
       "      <td>Павшино</td>\n",
       "      <td>2.0</td>\n",
       "      <td>Moscow region</td>\n",
       "      <td>1.0</td>\n",
       "      <td>49.2</td>\n",
       "      <td>20.0</td>\n",
       "      <td>10.0</td>\n",
       "      <td>6.0</td>\n",
       "      <td>15</td>\n",
       "      <td>European-style renovation</td>\n",
       "    </tr>\n",
       "    <tr>\n",
       "      <th>2</th>\n",
       "      <td>11090000.0</td>\n",
       "      <td>Secondary</td>\n",
       "      <td>Мякинино</td>\n",
       "      <td>14.0</td>\n",
       "      <td>Moscow region</td>\n",
       "      <td>1.0</td>\n",
       "      <td>44.7</td>\n",
       "      <td>16.2</td>\n",
       "      <td>13.1</td>\n",
       "      <td>10.0</td>\n",
       "      <td>25</td>\n",
       "      <td>Cosmetic</td>\n",
       "    </tr>\n",
       "    <tr>\n",
       "      <th>3</th>\n",
       "      <td>8300000.0</td>\n",
       "      <td>Secondary</td>\n",
       "      <td>Строгино</td>\n",
       "      <td>8.0</td>\n",
       "      <td>Moscow region</td>\n",
       "      <td>1.0</td>\n",
       "      <td>35.1</td>\n",
       "      <td>16.0</td>\n",
       "      <td>11.0</td>\n",
       "      <td>12.0</td>\n",
       "      <td>33</td>\n",
       "      <td>European-style renovation</td>\n",
       "    </tr>\n",
       "    <tr>\n",
       "      <th>4</th>\n",
       "      <td>6450000.0</td>\n",
       "      <td>Secondary</td>\n",
       "      <td>Опалиха</td>\n",
       "      <td>6.0</td>\n",
       "      <td>Moscow region</td>\n",
       "      <td>1.0</td>\n",
       "      <td>37.7</td>\n",
       "      <td>15.2</td>\n",
       "      <td>4.0</td>\n",
       "      <td>5.0</td>\n",
       "      <td>5</td>\n",
       "      <td>Without renovation</td>\n",
       "    </tr>\n",
       "  </tbody>\n",
       "</table>\n",
       "</div>"
      ],
      "text/plain": [
       "        Price Apartment type Metro station  Minutes to metro         Region  \\\n",
       "0   6300000.0      Secondary       Опалиха               6.0  Moscow region   \n",
       "1   9000000.0      Secondary       Павшино               2.0  Moscow region   \n",
       "2  11090000.0      Secondary      Мякинино              14.0  Moscow region   \n",
       "3   8300000.0      Secondary      Строгино               8.0  Moscow region   \n",
       "4   6450000.0      Secondary       Опалиха               6.0  Moscow region   \n",
       "\n",
       "   Number of rooms  Area  Living area  Kitchen area  Floor  Number of floors  \\\n",
       "0              1.0  30.6         11.1           8.5   25.0                25   \n",
       "1              1.0  49.2         20.0          10.0    6.0                15   \n",
       "2              1.0  44.7         16.2          13.1   10.0                25   \n",
       "3              1.0  35.1         16.0          11.0   12.0                33   \n",
       "4              1.0  37.7         15.2           4.0    5.0                 5   \n",
       "\n",
       "                  Renovation  \n",
       "0                   Cosmetic  \n",
       "1  European-style renovation  \n",
       "2                   Cosmetic  \n",
       "3  European-style renovation  \n",
       "4         Without renovation  "
      ]
     },
     "execution_count": 2,
     "metadata": {},
     "output_type": "execute_result"
    }
   ],
   "source": [
    "# Визульный просмотр данных\n",
    "df = pd.read_csv('../archive.zip', compression='zip')\n",
    "df.head()"
   ]
  },
  {
   "cell_type": "code",
   "execution_count": 3,
   "id": "5b6c6c74-fa2b-45e2-a59f-ee3b618ca862",
   "metadata": {
    "scrolled": true
   },
   "outputs": [
    {
     "data": {
      "text/html": [
       "<div>\n",
       "<style scoped>\n",
       "    .dataframe tbody tr th:only-of-type {\n",
       "        vertical-align: middle;\n",
       "    }\n",
       "\n",
       "    .dataframe tbody tr th {\n",
       "        vertical-align: top;\n",
       "    }\n",
       "\n",
       "    .dataframe thead th {\n",
       "        text-align: right;\n",
       "    }\n",
       "</style>\n",
       "<table border=\"1\" class=\"dataframe\">\n",
       "  <thead>\n",
       "    <tr style=\"text-align: right;\">\n",
       "      <th></th>\n",
       "      <th>Price</th>\n",
       "      <th>Apartment_type</th>\n",
       "      <th>Metro_station</th>\n",
       "      <th>Minutes_to_metro</th>\n",
       "      <th>Region</th>\n",
       "      <th>Number_of_rooms</th>\n",
       "      <th>Area</th>\n",
       "      <th>Living_area</th>\n",
       "      <th>Kitchen_area</th>\n",
       "      <th>Floor</th>\n",
       "      <th>Number_of_floors</th>\n",
       "      <th>Renovation</th>\n",
       "    </tr>\n",
       "  </thead>\n",
       "  <tbody>\n",
       "    <tr>\n",
       "      <th>0</th>\n",
       "      <td>6300000.0</td>\n",
       "      <td>Secondary</td>\n",
       "      <td>Опалиха</td>\n",
       "      <td>6.0</td>\n",
       "      <td>Moscow region</td>\n",
       "      <td>1.0</td>\n",
       "      <td>30.6</td>\n",
       "      <td>11.1</td>\n",
       "      <td>8.5</td>\n",
       "      <td>25.0</td>\n",
       "      <td>25</td>\n",
       "      <td>Cosmetic</td>\n",
       "    </tr>\n",
       "    <tr>\n",
       "      <th>1</th>\n",
       "      <td>9000000.0</td>\n",
       "      <td>Secondary</td>\n",
       "      <td>Павшино</td>\n",
       "      <td>2.0</td>\n",
       "      <td>Moscow region</td>\n",
       "      <td>1.0</td>\n",
       "      <td>49.2</td>\n",
       "      <td>20.0</td>\n",
       "      <td>10.0</td>\n",
       "      <td>6.0</td>\n",
       "      <td>15</td>\n",
       "      <td>European-style renovation</td>\n",
       "    </tr>\n",
       "    <tr>\n",
       "      <th>2</th>\n",
       "      <td>11090000.0</td>\n",
       "      <td>Secondary</td>\n",
       "      <td>Мякинино</td>\n",
       "      <td>14.0</td>\n",
       "      <td>Moscow region</td>\n",
       "      <td>1.0</td>\n",
       "      <td>44.7</td>\n",
       "      <td>16.2</td>\n",
       "      <td>13.1</td>\n",
       "      <td>10.0</td>\n",
       "      <td>25</td>\n",
       "      <td>Cosmetic</td>\n",
       "    </tr>\n",
       "    <tr>\n",
       "      <th>3</th>\n",
       "      <td>8300000.0</td>\n",
       "      <td>Secondary</td>\n",
       "      <td>Строгино</td>\n",
       "      <td>8.0</td>\n",
       "      <td>Moscow region</td>\n",
       "      <td>1.0</td>\n",
       "      <td>35.1</td>\n",
       "      <td>16.0</td>\n",
       "      <td>11.0</td>\n",
       "      <td>12.0</td>\n",
       "      <td>33</td>\n",
       "      <td>European-style renovation</td>\n",
       "    </tr>\n",
       "    <tr>\n",
       "      <th>4</th>\n",
       "      <td>6450000.0</td>\n",
       "      <td>Secondary</td>\n",
       "      <td>Опалиха</td>\n",
       "      <td>6.0</td>\n",
       "      <td>Moscow region</td>\n",
       "      <td>1.0</td>\n",
       "      <td>37.7</td>\n",
       "      <td>15.2</td>\n",
       "      <td>4.0</td>\n",
       "      <td>5.0</td>\n",
       "      <td>5</td>\n",
       "      <td>Without renovation</td>\n",
       "    </tr>\n",
       "  </tbody>\n",
       "</table>\n",
       "</div>"
      ],
      "text/plain": [
       "        Price Apartment_type Metro_station  Minutes_to_metro         Region  \\\n",
       "0   6300000.0      Secondary       Опалиха               6.0  Moscow region   \n",
       "1   9000000.0      Secondary       Павшино               2.0  Moscow region   \n",
       "2  11090000.0      Secondary      Мякинино              14.0  Moscow region   \n",
       "3   8300000.0      Secondary      Строгино               8.0  Moscow region   \n",
       "4   6450000.0      Secondary       Опалиха               6.0  Moscow region   \n",
       "\n",
       "   Number_of_rooms  Area  Living_area  Kitchen_area  Floor  Number_of_floors  \\\n",
       "0              1.0  30.6         11.1           8.5   25.0                25   \n",
       "1              1.0  49.2         20.0          10.0    6.0                15   \n",
       "2              1.0  44.7         16.2          13.1   10.0                25   \n",
       "3              1.0  35.1         16.0          11.0   12.0                33   \n",
       "4              1.0  37.7         15.2           4.0    5.0                 5   \n",
       "\n",
       "                  Renovation  \n",
       "0                   Cosmetic  \n",
       "1  European-style renovation  \n",
       "2                   Cosmetic  \n",
       "3  European-style renovation  \n",
       "4         Without renovation  "
      ]
     },
     "execution_count": 3,
     "metadata": {},
     "output_type": "execute_result"
    }
   ],
   "source": [
    "# Переименование колонок для их более удобного использования\n",
    "df = df.rename(columns={\n",
    "    'Apartment type': 'Apartment_type',\n",
    "    'Metro station': 'Metro_station',\n",
    "    'Minutes to metro':'Minutes_to_metro',\n",
    "    'Number of rooms': 'Number_of_rooms',\n",
    "    'Living area': 'Living_area',\n",
    "    'Kitchen area': 'Kitchen_area',\n",
    "    'Number of floors': 'Number_of_floors'\n",
    "})\n",
    "df.head()"
   ]
  },
  {
   "cell_type": "code",
   "execution_count": 4,
   "id": "684eb974-3240-4b12-9b8c-d30551c3d370",
   "metadata": {
    "scrolled": true
   },
   "outputs": [
    {
     "name": "stdout",
     "output_type": "stream",
     "text": [
      "\n",
      " General information aboout the dataset:\n",
      "<class 'pandas.core.frame.DataFrame'>\n",
      "RangeIndex: 22676 entries, 0 to 22675\n",
      "Data columns (total 12 columns):\n",
      " #   Column            Non-Null Count  Dtype  \n",
      "---  ------            --------------  -----  \n",
      " 0   Price             22676 non-null  float64\n",
      " 1   Apartment_type    22676 non-null  object \n",
      " 2   Metro_station     22676 non-null  object \n",
      " 3   Minutes_to_metro  22676 non-null  float64\n",
      " 4   Region            22676 non-null  object \n",
      " 5   Number_of_rooms   22676 non-null  float64\n",
      " 6   Area              22676 non-null  float64\n",
      " 7   Living_area       22676 non-null  float64\n",
      " 8   Kitchen_area      22676 non-null  float64\n",
      " 9   Floor             22676 non-null  float64\n",
      " 10  Number_of_floors  22676 non-null  int64  \n",
      " 11  Renovation        22676 non-null  object \n",
      "dtypes: float64(7), int64(1), object(4)\n",
      "memory usage: 2.1+ MB\n",
      "None\n"
     ]
    }
   ],
   "source": [
    "# Получение общей информации о наборе данных\n",
    "print(\"\\n General information aboout the dataset:\")\n",
    "print(df.info())"
   ]
  },
  {
   "cell_type": "code",
   "execution_count": 5,
   "id": "43f8fb6c-0128-4aa3-a8ad-2ec294991faa",
   "metadata": {
    "scrolled": true
   },
   "outputs": [
    {
     "name": "stdout",
     "output_type": "stream",
     "text": [
      "\n",
      " Descriptive statistics for numeric data:\n",
      "              Price  Minutes_to_metro  Number_of_rooms          Area  \\\n",
      "count  2.267600e+04      22676.000000     22676.000000  22676.000000   \n",
      "mean   3.612132e+07         11.888605         2.043129     71.966827   \n",
      "std    8.282561e+07          6.204457         1.523586     68.368608   \n",
      "min    1.150000e+06          0.000000         0.000000      6.000000   \n",
      "25%    7.068116e+06          7.000000         1.000000     37.400000   \n",
      "50%    1.134320e+07         11.000000         2.000000     53.300000   \n",
      "75%    2.479925e+07         15.000000         3.000000     77.140000   \n",
      "max    2.455020e+09         60.000000        12.000000   1117.000000   \n",
      "\n",
      "        Living_area  Kitchen_area         Floor  Number_of_floors  \n",
      "count  22676.000000  22676.000000  22676.000000      22676.000000  \n",
      "mean      38.517953     12.594082      9.190466         16.556095  \n",
      "std       38.124278      7.728074      7.549996          9.779297  \n",
      "min        2.000000      1.000000      1.000000          1.000000  \n",
      "25%       17.600000      8.600000      4.000000         11.000000  \n",
      "50%       28.500000     10.600000      8.000000         16.000000  \n",
      "75%       43.200000     14.500000     13.000000         20.000000  \n",
      "max      566.800000    122.000000     92.000000         97.000000  \n"
     ]
    }
   ],
   "source": [
    "# Получение статистики пр числовым столбцам\n",
    "print(\"\\n Descriptive statistics for numeric data:\")\n",
    "print(df.describe())"
   ]
  },
  {
   "cell_type": "code",
   "execution_count": 8,
   "id": "48973ab1-1013-4fe9-ad3a-340422912a06",
   "metadata": {},
   "outputs": [
    {
     "name": "stdout",
     "output_type": "stream",
     "text": [
      "\n",
      " Check for missing values:\n",
      "Price               0\n",
      "Apartment_type      0\n",
      "Metro_station       0\n",
      "Minutes_to_metro    0\n",
      "Region              0\n",
      "Number_of_rooms     0\n",
      "Area                0\n",
      "Living_area         0\n",
      "Kitchen_area        0\n",
      "Floor               0\n",
      "Number_of_floors    0\n",
      "Renovation          0\n",
      "dtype: int64\n"
     ]
    }
   ],
   "source": [
    "# Есть ли пропущенные значения\n",
    "print(\"\\n Check for missing values:\")\n",
    "print(df.isnull().sum())"
   ]
  },
  {
   "cell_type": "code",
   "execution_count": 12,
   "id": "bc13d0e7-51d3-4154-a257-06e477f40311",
   "metadata": {},
   "outputs": [
    {
     "name": "stdout",
     "output_type": "stream",
     "text": [
      "Общий объем память: 7295.80 KB\n"
     ]
    }
   ],
   "source": [
    "total_memory = df.memory_usage(deep=True).sum()\n",
    "print(f'Общий объем память: {total_memory / 1024:.2f} KB')"
   ]
  },
  {
   "cell_type": "markdown",
   "id": "4b16ec5d-d8a7-49d9-ab28-5ba2f5916f92",
   "metadata": {},
   "source": [
    "# Обзор данных\n",
    "\n",
    "## Общая информация:\n",
    "\n",
    "- **Тип:** pandas.DataFrame  \n",
    "- **Записей:** 22676  \n",
    "- **Столбцов:** 12  \n",
    "\n",
    "## Столбцы:\n",
    "\n",
    "- `Price`: Цена квартиры в указанной валюте (основная целевая переменная для предсказания). \n",
    "- `Apartment_type`: Тип квартиры, например, студия, одна спальня, две спальни и т.д.  \n",
    "- `Metro_station`: Название ближайшей станции метро к расположению квартиры.  \n",
    "- `Minutes_to_metro`: Время в минутах, необходимое для пешей прогулки до ближайшей станции метро.  \n",
    "- `Region`: Регион, где расположена квартира (Москва или Московская область).  \n",
    "- `Number of rooms`: Общее количество комнат в квартире, включая спальни, гостиные и т.д. \n",
    "- `Area`: Общая площадь квартиры в квадратных метрах. \n",
    "- `Living_area`: Жилая площадь квартиры в квадратных метрах, то есть площадь, пригодная для проживания.  \n",
    "- `Kitchen_area`: Площадь кухни в квадратных метрах.  \n",
    "- `Floor`: Этаж, на котором расположена квартира.  \n",
    "- `Number_of_floors`: Общее количество этажей в здании, где находится квартира.  \n",
    "- `Renovation`: Уровень ремонта квартиры, например, \"без ремонта\", \"косметический ремонт\", \"евро-ремонт\" и т.д.  \n",
    "## Память:\n",
    "\n",
    "7295.8+ KB\n",
    "\n",
    "## Описательные статистики:\n",
    "\n",
    "- `Price`: Среднее 36,121,320, Макс 2,455,020,000  \n",
    "- `Minutes_to_metro`: Среднее 11.89  \n",
    "- `Number_of_rooms`: Среднее 2.04, Макс 12  \n",
    "- `Area`: Среднее 71.97, Макс 1117  \n",
    "- `Living_area`: Среднее 38.52, Макс 566.8  \n",
    "- `Kitchen_area`: Среднее 12.59, Макс 122  \n",
    "- `Floor`: Среднее 9.19, Макс 92  \n",
    "- `Number_of_floors`: Среднее 16.56, Макс 97  \n",
    "\n",
    "\n",
    "## Пропущенные значения:\n",
    "\n",
    "Отсутствуют."
   ]
  },
  {
   "cell_type": "code",
   "execution_count": null,
   "id": "0a94c55d-a777-4711-b800-d6b47314fcbe",
   "metadata": {},
   "outputs": [],
   "source": []
  },
  {
   "cell_type": "markdown",
   "id": "9570272b-d02e-4edb-8373-a9ae1c5ff631",
   "metadata": {},
   "source": [
    "**1. Какие самые распространённые типы квартир в этом регионе?** <br><br>\n",
    "Pandas группирует жилые объекты по типам квартир и подсчитывает их общее количество в регионе. Это позволяет быстро определить, какие типы квартир встречаются чаще всего и являются наиболее распространёнными среди жилого фонда региона. Сортировка результатов по количеству объектов помогает выявить самые популярные и типичные варианты жилья, что важно для понимания структуры рынка недвижимости и планирования развития района.\n"
   ]
  },
  {
   "cell_type": "code",
   "execution_count": 18,
   "id": "daa1ee14-3010-4dcf-8142-ce052f726f69",
   "metadata": {},
   "outputs": [],
   "source": [
    "df_com_type = df['Apartment_type'].value_counts()"
   ]
  },
  {
   "cell_type": "code",
   "execution_count": 19,
   "id": "9a90b53f-9816-49c3-aef5-f0097054a891",
   "metadata": {},
   "outputs": [
    {
     "data": {
      "text/plain": [
       "Apartment_type\n",
       "Secondary       13152\n",
       "New building     9524\n",
       "Name: count, dtype: int64"
      ]
     },
     "execution_count": 19,
     "metadata": {},
     "output_type": "execute_result"
    }
   ],
   "source": [
    "df_com_type"
   ]
  },
  {
   "cell_type": "markdown",
   "id": "95f43c10-7bbf-4ecc-806f-7a0f115963c6",
   "metadata": {},
   "source": [
    "# Анализ типов квартир\n",
    "\n",
    "**Результаты анализа типов квартир:**\n",
    "\n",
    "- **\"Secondary\"** — наиболее распространённый тип квартир в регионе, с общим числом 13 152 объектов.\n",
    "- **\"New building\"** — занимает второе место по распространённости, с 9 524 объектов.\n",
    "\n",
    "## Выводы:\n",
    "\n",
    "- Большая часть жилого фонда составляют квартиры вторичного жилья, что указывает на зрелость рынка и наличие устоявшейся жилой застройки.\n",
    "- Новостройки также занимают значительную долю, что свидетельствует о развитии новых жилых комплексов и строительных проектов в регионе.\n",
    "- Анализ распределения типов квартир помогает понять структуру жилищного фонда, определить спрос на разные типы недвижимости и планировать дальнейшее развитие рынка.\n",
    "\n",
    "## Визуализация\n",
    "\n",
    "Для более наглядного восприятия данных можно построить круговую диаграмму, которая показывает долю каждого типа квартир в общем жилом фонде региона, что позволяет легко оценить преобладание тех или иных типов."
   ]
  },
  {
   "cell_type": "code",
   "execution_count": 21,
   "id": "b9ecad6d-0880-4bd6-aee3-c13c33f6fff5",
   "metadata": {},
   "outputs": [
    {
     "data": {
      "image/png": "[encoded data removed]",
      "text/plain": [
       "<Figure size 640x480 with 1 Axes>"
      ]
     },
     "metadata": {},
     "output_type": "display_data"
    }
   ],
   "source": [
    "new_labels = ['Вторички', 'Новостройки']\n",
    "plt.pie(df_com_type, labels=new_labels, autopct='%1.1f%%', startangle=90)\n",
    "plt.title('Доля видов квартир')\n",
    "plt.show()"
   ]
  },
  {
   "cell_type": "code",
   "execution_count": 23,
   "id": "10000d98-0e54-4724-beaf-b8b7e2592f22",
   "metadata": {},
   "outputs": [
    {
     "data": {
      "image/png": "[encoded data removed]",
      "text/plain": [
       "<Figure size 640x480 with 1 Axes>"
      ]
     },
     "metadata": {},
     "output_type": "display_data"
    }
   ],
   "source": [
    "df_com_type.plot(kind='bar')\n",
    "plt.title('Самые распространённые типы квартир')\n",
    "plt.ylabel('Количество')\n",
    "plt.xlabel('Типы квартир')\n",
    "plt.xticks(ticks=range(len(df_com_type.index)), labels=['Вторичное жилье', 'Новостройки'], rotation=360)\n",
    "plt.show()"
   ]
  },
  {
   "cell_type": "code",
   "execution_count": null,
   "id": "edefeca6-03c0-4686-9b36-b1d2eb5c2084",
   "metadata": {},
   "outputs": [],
   "source": []
  },
  {
   "cell_type": "markdown",
   "id": "3f73497b-0d82-44e6-b8c0-6de3ad32a48e",
   "metadata": {},
   "source": [
    "**2. Is there a relationship between housing prices and proximity to metro stations?**"
   ]
  },
  {
   "cell_type": "code",
   "execution_count": 9,
   "id": "0ed88786-4916-4b40-a579-280491d3d60e",
   "metadata": {},
   "outputs": [],
   "source": [
    "housing_proximity = df.groupby('Minutes_to_metro', as_index=False).Price.sum().sort_values('Price', ascending=False)"
   ]
  },
  {
   "cell_type": "code",
   "execution_count": 10,
   "id": "507fa447-4b17-4711-bdd7-ea513578ec01",
   "metadata": {},
   "outputs": [
    {
     "data": {
      "text/html": [
       "<div>\n",
       "<style scoped>\n",
       "    .dataframe tbody tr th:only-of-type {\n",
       "        vertical-align: middle;\n",
       "    }\n",
       "\n",
       "    .dataframe tbody tr th {\n",
       "        vertical-align: top;\n",
       "    }\n",
       "\n",
       "    .dataframe thead th {\n",
       "        text-align: right;\n",
       "    }\n",
       "</style>\n",
       "<table border=\"1\" class=\"dataframe\">\n",
       "  <thead>\n",
       "    <tr style=\"text-align: right;\">\n",
       "      <th></th>\n",
       "      <th>Minutes_to_metro</th>\n",
       "      <th>Price</th>\n",
       "    </tr>\n",
       "  </thead>\n",
       "  <tbody>\n",
       "    <tr>\n",
       "      <th>8</th>\n",
       "      <td>8.0</td>\n",
       "      <td>7.775473e+10</td>\n",
       "    </tr>\n",
       "    <tr>\n",
       "      <th>7</th>\n",
       "      <td>7.0</td>\n",
       "      <td>6.944045e+10</td>\n",
       "    </tr>\n",
       "    <tr>\n",
       "      <th>6</th>\n",
       "      <td>6.0</td>\n",
       "      <td>6.873925e+10</td>\n",
       "    </tr>\n",
       "    <tr>\n",
       "      <th>9</th>\n",
       "      <td>9.0</td>\n",
       "      <td>6.103983e+10</td>\n",
       "    </tr>\n",
       "    <tr>\n",
       "      <th>10</th>\n",
       "      <td>10.0</td>\n",
       "      <td>6.095548e+10</td>\n",
       "    </tr>\n",
       "  </tbody>\n",
       "</table>\n",
       "</div>"
      ],
      "text/plain": [
       "    Minutes_to_metro         Price\n",
       "8                8.0  7.775473e+10\n",
       "7                7.0  6.944045e+10\n",
       "6                6.0  6.873925e+10\n",
       "9                9.0  6.103983e+10\n",
       "10              10.0  6.095548e+10"
      ]
     },
     "execution_count": 10,
     "metadata": {},
     "output_type": "execute_result"
    }
   ],
   "source": [
    "housing_proximity.head(5)"
   ]
  },
  {
   "cell_type": "code",
   "execution_count": 11,
   "id": "1b35cd80-77b4-4bae-9c86-f2468d765f2c",
   "metadata": {},
   "outputs": [
    {
     "data": {
      "image/png": "[encoded data removed]",
      "text/plain": [
       "<Figure size 1500x700 with 1 Axes>"
      ]
     },
     "metadata": {},
     "output_type": "display_data"
    }
   ],
   "source": [
    "fig, ax = plt.subplots(figsize=(15, 7))\n",
    "ax.scatter(data=housing_proximity, x = 'Minutes_to_metro', y = 'Price')\n",
    "plt.title('Зависимость цены на недвижимость относительно расстояния до метро')\n",
    "plt.xlabel('Расстояние до метро')\n",
    "plt.ylabel('Цена за недвижисть')\n",
    "plt.show()"
   ]
  },
  {
   "cell_type": "code",
   "execution_count": null,
   "id": "1e8dd72e-14ab-4cf9-9619-db2fc6fa05a0",
   "metadata": {},
   "outputs": [],
   "source": []
  },
  {
   "cell_type": "markdown",
   "id": "28cb42ff-b4da-462c-9ffd-652466784d44",
   "metadata": {},
   "source": [
    "**3. How does the level of renovation affect the price of an apartment?**"
   ]
  },
  {
   "cell_type": "code",
   "execution_count": 12,
   "id": "54a8530a-d282-43a7-aa77-5021b65351be",
   "metadata": {},
   "outputs": [],
   "source": [
    "df_ren = df.groupby('Renovation', as_index=False).Price.mean()"
   ]
  },
  {
   "cell_type": "code",
   "execution_count": 13,
   "id": "dbe1126f-8069-4487-a166-e3c94ff8ba95",
   "metadata": {},
   "outputs": [
    {
     "data": {
      "text/html": [
       "<div>\n",
       "<style scoped>\n",
       "    .dataframe tbody tr th:only-of-type {\n",
       "        vertical-align: middle;\n",
       "    }\n",
       "\n",
       "    .dataframe tbody tr th {\n",
       "        vertical-align: top;\n",
       "    }\n",
       "\n",
       "    .dataframe thead th {\n",
       "        text-align: right;\n",
       "    }\n",
       "</style>\n",
       "<table border=\"1\" class=\"dataframe\">\n",
       "  <thead>\n",
       "    <tr style=\"text-align: right;\">\n",
       "      <th></th>\n",
       "      <th>Renovation</th>\n",
       "      <th>Price</th>\n",
       "    </tr>\n",
       "  </thead>\n",
       "  <tbody>\n",
       "    <tr>\n",
       "      <th>0</th>\n",
       "      <td>Cosmetic</td>\n",
       "      <td>9.634695e+06</td>\n",
       "    </tr>\n",
       "    <tr>\n",
       "      <th>1</th>\n",
       "      <td>Designer</td>\n",
       "      <td>1.152157e+08</td>\n",
       "    </tr>\n",
       "    <tr>\n",
       "      <th>2</th>\n",
       "      <td>European-style renovation</td>\n",
       "      <td>3.450900e+07</td>\n",
       "    </tr>\n",
       "    <tr>\n",
       "      <th>3</th>\n",
       "      <td>Without renovation</td>\n",
       "      <td>6.909202e+07</td>\n",
       "    </tr>\n",
       "  </tbody>\n",
       "</table>\n",
       "</div>"
      ],
      "text/plain": [
       "                  Renovation         Price\n",
       "0                   Cosmetic  9.634695e+06\n",
       "1                   Designer  1.152157e+08\n",
       "2  European-style renovation  3.450900e+07\n",
       "3         Without renovation  6.909202e+07"
      ]
     },
     "execution_count": 13,
     "metadata": {},
     "output_type": "execute_result"
    }
   ],
   "source": [
    "df_ren"
   ]
  },
  {
   "cell_type": "code",
   "execution_count": 14,
   "id": "5f4b75e2-9091-4c3c-9675-9e2208b2b570",
   "metadata": {},
   "outputs": [
    {
     "data": {
      "image/png": "[encoded data removed]",
      "text/plain": [
       "<Figure size 900x700 with 1 Axes>"
      ]
     },
     "metadata": {},
     "output_type": "display_data"
    }
   ],
   "source": [
    "fig, ax = plt.subplots(figsize=(9, 7))\n",
    "sns.barplot(data=df_ren, x='Renovation', y='Price', ax=ax)\n",
    "plt.xlabel('Уровень ремонта')\n",
    "plt.ylabel('Средняя цена')\n",
    "plt.title('Средняя цена по уровням ремонта')\n",
    "plt.show()"
   ]
  },
  {
   "cell_type": "code",
   "execution_count": null,
   "id": "db0dea43-15eb-47d2-a129-0c8f90bc0baf",
   "metadata": {},
   "outputs": [],
   "source": []
  },
  {
   "cell_type": "code",
   "execution_count": 15,
   "id": "65be475f-0d4f-47c5-9800-904d48773680",
   "metadata": {},
   "outputs": [],
   "source": [
    "df_ren_series = df.groupby('Renovation').Price.mean()"
   ]
  },
  {
   "cell_type": "code",
   "execution_count": 16,
   "id": "1cfc8809-727e-4482-8831-170cf313e020",
   "metadata": {},
   "outputs": [
    {
     "data": {
      "image/png": "[encoded data removed]",
      "text/plain": [
       "<Figure size 640x480 with 1 Axes>"
      ]
     },
     "metadata": {},
     "output_type": "display_data"
    }
   ],
   "source": [
    "plt.pie(df_ren_series, labels=df_ren_series.index, autopct='%1.1f%%', startangle=90)\n",
    "plt.title('Доли средней цены по уровням ремонта')\n",
    "plt.show()"
   ]
  },
  {
   "cell_type": "code",
   "execution_count": null,
   "id": "79680757-d40f-4c02-8a64-25ba4975d767",
   "metadata": {},
   "outputs": [],
   "source": []
  },
  {
   "cell_type": "markdown",
   "id": "78cddeab-dfde-4fe8-9d66-928aad876c86",
   "metadata": {},
   "source": [
    "**4. Is there a price difference in housing between Moscow and the Moscow Oblast region?**"
   ]
  },
  {
   "cell_type": "code",
   "execution_count": 17,
   "id": "408e8e69-fb03-48ab-88c7-4fd1f6987854",
   "metadata": {},
   "outputs": [],
   "source": [
    "df_region = df.groupby('Region', as_index=False).Price.mean()"
   ]
  },
  {
   "cell_type": "code",
   "execution_count": 18,
   "id": "b26cf9af-4020-4d26-b73e-519693add668",
   "metadata": {},
   "outputs": [
    {
     "data": {
      "text/html": [
       "<div>\n",
       "<style scoped>\n",
       "    .dataframe tbody tr th:only-of-type {\n",
       "        vertical-align: middle;\n",
       "    }\n",
       "\n",
       "    .dataframe tbody tr th {\n",
       "        vertical-align: top;\n",
       "    }\n",
       "\n",
       "    .dataframe thead th {\n",
       "        text-align: right;\n",
       "    }\n",
       "</style>\n",
       "<table border=\"1\" class=\"dataframe\">\n",
       "  <thead>\n",
       "    <tr style=\"text-align: right;\">\n",
       "      <th></th>\n",
       "      <th>Region</th>\n",
       "      <th>Price</th>\n",
       "    </tr>\n",
       "  </thead>\n",
       "  <tbody>\n",
       "    <tr>\n",
       "      <th>0</th>\n",
       "      <td>Moscow</td>\n",
       "      <td>4.798348e+07</td>\n",
       "    </tr>\n",
       "    <tr>\n",
       "      <th>1</th>\n",
       "      <td>Moscow region</td>\n",
       "      <td>6.998220e+06</td>\n",
       "    </tr>\n",
       "  </tbody>\n",
       "</table>\n",
       "</div>"
      ],
      "text/plain": [
       "          Region         Price\n",
       "0         Moscow  4.798348e+07\n",
       "1  Moscow region  6.998220e+06"
      ]
     },
     "execution_count": 18,
     "metadata": {},
     "output_type": "execute_result"
    }
   ],
   "source": [
    "df_region"
   ]
  },
  {
   "cell_type": "code",
   "execution_count": 19,
   "id": "74aabab6-2e60-48fe-859a-fee26bbf214c",
   "metadata": {},
   "outputs": [
    {
     "data": {
      "image/png": "[encoded data removed]",
      "text/plain": [
       "<Figure size 1000x500 with 1 Axes>"
      ]
     },
     "metadata": {},
     "output_type": "display_data"
    }
   ],
   "source": [
    "fig, ax = plt.subplots(figsize=(10, 5))\n",
    "sns.barplot(data=df_region, x='Price', y='Region')\n",
    "plt.title('Распределение цены по региону')\n",
    "plt.show()"
   ]
  },
  {
   "cell_type": "code",
   "execution_count": null,
   "id": "b8b87042-eeea-4235-986d-f7cb6d83c94c",
   "metadata": {},
   "outputs": [],
   "source": []
  },
  {
   "cell_type": "code",
   "execution_count": 20,
   "id": "74f0c780-64e5-4563-9a3d-1aaaaf4ac6b8",
   "metadata": {},
   "outputs": [],
   "source": [
    "df_region_grouped = df.groupby('Region').Price.mean()"
   ]
  },
  {
   "cell_type": "code",
   "execution_count": 21,
   "id": "0b466d8f-a616-4820-ba6d-dc281f27f805",
   "metadata": {},
   "outputs": [
    {
     "data": {
      "text/plain": [
       "Region\n",
       "Moscow           4.798348e+07\n",
       "Moscow region    6.998220e+06\n",
       "Name: Price, dtype: float64"
      ]
     },
     "execution_count": 21,
     "metadata": {},
     "output_type": "execute_result"
    }
   ],
   "source": [
    "df_region_grouped"
   ]
  },
  {
   "cell_type": "code",
   "execution_count": 22,
   "id": "65e884e9-dfd7-4fae-81c3-225530ca256c",
   "metadata": {},
   "outputs": [
    {
     "data": {
      "image/png": "[encoded data removed]",
      "text/plain": [
       "<Figure size 640x480 with 1 Axes>"
      ]
     },
     "metadata": {},
     "output_type": "display_data"
    }
   ],
   "source": [
    "plt.pie(df_region_grouped, labels=df_region_grouped.index, autopct='%1.1f%%', startangle=90)\n",
    "plt.title('Доли средней цены по регионам')\n",
    "plt.show()"
   ]
  },
  {
   "cell_type": "code",
   "execution_count": null,
   "id": "976a598a-1307-4e81-b915-f873f1172b77",
   "metadata": {},
   "outputs": [],
   "source": []
  },
  {
   "cell_type": "markdown",
   "id": "df6e5399-7dfc-487c-b26e-2f9032f5429b",
   "metadata": {},
   "source": [
    "**5. Are there any preferences regarding floor levels?**"
   ]
  },
  {
   "cell_type": "code",
   "execution_count": 23,
   "id": "db058caf-635b-4831-8f9d-71a86a2da66a",
   "metadata": {},
   "outputs": [],
   "source": [
    "df_floors = df.Number_of_floors.value_counts().reset_index()"
   ]
  },
  {
   "cell_type": "code",
   "execution_count": 24,
   "id": "1b488dee-741f-45a1-a473-bd0f7a83e04b",
   "metadata": {},
   "outputs": [
    {
     "data": {
      "text/html": [
       "<div>\n",
       "<style scoped>\n",
       "    .dataframe tbody tr th:only-of-type {\n",
       "        vertical-align: middle;\n",
       "    }\n",
       "\n",
       "    .dataframe tbody tr th {\n",
       "        vertical-align: top;\n",
       "    }\n",
       "\n",
       "    .dataframe thead th {\n",
       "        text-align: right;\n",
       "    }\n",
       "</style>\n",
       "<table border=\"1\" class=\"dataframe\">\n",
       "  <thead>\n",
       "    <tr style=\"text-align: right;\">\n",
       "      <th></th>\n",
       "      <th>Number_of_floors</th>\n",
       "      <th>count</th>\n",
       "    </tr>\n",
       "  </thead>\n",
       "  <tbody>\n",
       "    <tr>\n",
       "      <th>0</th>\n",
       "      <td>20</td>\n",
       "      <td>2893</td>\n",
       "    </tr>\n",
       "    <tr>\n",
       "      <th>1</th>\n",
       "      <td>14</td>\n",
       "      <td>2214</td>\n",
       "    </tr>\n",
       "    <tr>\n",
       "      <th>2</th>\n",
       "      <td>16</td>\n",
       "      <td>1848</td>\n",
       "    </tr>\n",
       "    <tr>\n",
       "      <th>3</th>\n",
       "      <td>17</td>\n",
       "      <td>1829</td>\n",
       "    </tr>\n",
       "    <tr>\n",
       "      <th>4</th>\n",
       "      <td>11</td>\n",
       "      <td>1818</td>\n",
       "    </tr>\n",
       "  </tbody>\n",
       "</table>\n",
       "</div>"
      ],
      "text/plain": [
       "   Number_of_floors  count\n",
       "0                20   2893\n",
       "1                14   2214\n",
       "2                16   1848\n",
       "3                17   1829\n",
       "4                11   1818"
      ]
     },
     "execution_count": 24,
     "metadata": {},
     "output_type": "execute_result"
    }
   ],
   "source": [
    "df_floors.head()"
   ]
  },
  {
   "cell_type": "code",
   "execution_count": 25,
   "id": "17f01d74-ecb4-4747-8197-340e1eac8578",
   "metadata": {},
   "outputs": [
    {
     "data": {
      "image/png": "[encoded data removed]",
      "text/plain": [
       "<Figure size 1500x900 with 1 Axes>"
      ]
     },
     "metadata": {},
     "output_type": "display_data"
    }
   ],
   "source": [
    "fig, ax = plt.subplots(figsize=(15, 9))\n",
    "sns.barplot(data=df_floors, x='Number_of_floors', y='count', ax=ax)\n",
    "ax.set_xlim([0, 50])\n",
    "plt.show()"
   ]
  },
  {
   "cell_type": "code",
   "execution_count": null,
   "id": "4251dd7a-1699-41d0-9df8-9dfa9fae6e17",
   "metadata": {},
   "outputs": [],
   "source": []
  },
  {
   "cell_type": "markdown",
   "id": "2081acb5-178c-4551-839f-8436b284d9d8",
   "metadata": {},
   "source": [
    "**6. Which factors have the greatest impact on housing prices?**"
   ]
  },
  {
   "cell_type": "markdown",
   "id": "3c2bd018-093b-4fcf-82cf-5f9dab51210a",
   "metadata": {},
   "source": [
    "Анализ корреляции"
   ]
  },
  {
   "cell_type": "code",
   "execution_count": 26,
   "id": "7cd36cf6-3c0f-4f0d-86b0-2894f4330c5d",
   "metadata": {},
   "outputs": [],
   "source": [
    "df_numeric = pd.get_dummies(df)\n",
    "corr = df_numeric.corr()"
   ]
  },
  {
   "cell_type": "code",
   "execution_count": 27,
   "id": "880fe61a-a4bd-46fd-8922-d91b315d3d6b",
   "metadata": {},
   "outputs": [
    {
     "data": {
      "text/plain": [
       "Price                              1.000000\n",
       "Area                               0.794226\n",
       "Living_area                        0.709296\n",
       "Kitchen_area                       0.582940\n",
       "Number_of_rooms                    0.490820\n",
       "                                     ...   \n",
       "Minutes_to_metro                  -0.105382\n",
       "Metro_station_Красногвардейская   -0.132826\n",
       "Region_Moscow region              -0.224412\n",
       "Apartment_type_New building       -0.287179\n",
       "Renovation_Cosmetic               -0.363679\n",
       "Name: Price, Length: 563, dtype: float64"
      ]
     },
     "execution_count": 27,
     "metadata": {},
     "output_type": "execute_result"
    }
   ],
   "source": [
    "corr['Price'].sort_values(ascending=False)"
   ]
  },
  {
   "cell_type": "markdown",
   "id": "072d15ce-9793-4e9e-a98f-bbe514944763",
   "metadata": {},
   "source": [
    "здесь будет график!!! :)"
   ]
  },
  {
   "cell_type": "code",
   "execution_count": null,
   "id": "c1ae260e-61a3-44c1-80a0-e5e3fffd8e5b",
   "metadata": {},
   "outputs": [],
   "source": []
  },
  {
   "cell_type": "markdown",
   "id": "6059b4a6-d91d-4d1f-b094-1343bd620460",
   "metadata": {},
   "source": [
    "Регрессионный анализ"
   ]
  },
  {
   "cell_type": "code",
   "execution_count": 36,
   "id": "74f8fd00-2e10-4ad1-9f67-5041bf5575fa",
   "metadata": {},
   "outputs": [],
   "source": [
    "X = df[['Minutes_to_metro', 'Number_of_floors']]\n",
    "Y = df['Price']"
   ]
  },
  {
   "cell_type": "code",
   "execution_count": 37,
   "id": "01f5cc7d-d504-47f2-9100-2700ed99206d",
   "metadata": {},
   "outputs": [
    {
     "data": {
      "text/html": [
       "<table class=\"simpletable\">\n",
       "<caption>OLS Regression Results</caption>\n",
       "<tr>\n",
       "  <th>Dep. Variable:</th>          <td>Price</td>      <th>  R-squared (uncentered):</th>       <td>   0.119</td>  \n",
       "</tr>\n",
       "<tr>\n",
       "  <th>Model:</th>                   <td>OLS</td>       <th>  Adj. R-squared (uncentered):</th>  <td>   0.119</td>  \n",
       "</tr>\n",
       "<tr>\n",
       "  <th>Method:</th>             <td>Least Squares</td>  <th>  F-statistic:       </th>           <td>   1533.</td>  \n",
       "</tr>\n",
       "<tr>\n",
       "  <th>Date:</th>             <td>Sun, 28 Sep 2025</td> <th>  Prob (F-statistic):</th>            <td>  0.00</td>   \n",
       "</tr>\n",
       "<tr>\n",
       "  <th>Time:</th>                 <td>11:10:06</td>     <th>  Log-Likelihood:    </th>          <td>-4.4615e+05</td>\n",
       "</tr>\n",
       "<tr>\n",
       "  <th>No. Observations:</th>      <td> 22676</td>      <th>  AIC:               </th>           <td>8.923e+05</td> \n",
       "</tr>\n",
       "<tr>\n",
       "  <th>Df Residuals:</th>          <td> 22674</td>      <th>  BIC:               </th>           <td>8.923e+05</td> \n",
       "</tr>\n",
       "<tr>\n",
       "  <th>Df Model:</th>              <td>     2</td>      <th>                     </th>               <td> </td>     \n",
       "</tr>\n",
       "<tr>\n",
       "  <th>Covariance Type:</th>      <td>nonrobust</td>    <th>                     </th>               <td> </td>     \n",
       "</tr>\n",
       "</table>\n",
       "<table class=\"simpletable\">\n",
       "<tr>\n",
       "          <td></td>            <th>coef</th>     <th>std err</th>      <th>t</th>      <th>P>|t|</th>  <th>[0.025</th>    <th>0.975]</th>  \n",
       "</tr>\n",
       "<tr>\n",
       "  <th>Minutes_to_metro</th> <td> 9.011e+05</td> <td> 6.42e+04</td> <td>   14.045</td> <td> 0.000</td> <td> 7.75e+05</td> <td> 1.03e+06</td>\n",
       "</tr>\n",
       "<tr>\n",
       "  <th>Number_of_floors</th> <td> 1.094e+06</td> <td> 4.47e+04</td> <td>   24.448</td> <td> 0.000</td> <td> 1.01e+06</td> <td> 1.18e+06</td>\n",
       "</tr>\n",
       "</table>\n",
       "<table class=\"simpletable\">\n",
       "<tr>\n",
       "  <th>Omnibus:</th>       <td>29267.613</td> <th>  Durbin-Watson:     </th>  <td>   1.030</td>  \n",
       "</tr>\n",
       "<tr>\n",
       "  <th>Prob(Omnibus):</th>  <td> 0.000</td>   <th>  Jarque-Bera (JB):  </th> <td>7733827.756</td>\n",
       "</tr>\n",
       "<tr>\n",
       "  <th>Skew:</th>           <td> 7.098</td>   <th>  Prob(JB):          </th>  <td>    0.00</td>  \n",
       "</tr>\n",
       "<tr>\n",
       "  <th>Kurtosis:</th>       <td>92.353</td>   <th>  Cond. No.          </th>  <td>    2.91</td>  \n",
       "</tr>\n",
       "</table><br/><br/>Notes:<br/>[1] R² is computed without centering (uncentered) since the model does not contain a constant.<br/>[2] Standard Errors assume that the covariance matrix of the errors is correctly specified."
      ],
      "text/latex": [
       "\\begin{center}\n",
       "\\begin{tabular}{lclc}\n",
       "\\toprule\n",
       "\\textbf{Dep. Variable:}     &      Price       & \\textbf{  R-squared (uncentered):}      &      0.119   \\\\\n",
       "\\textbf{Model:}             &       OLS        & \\textbf{  Adj. R-squared (uncentered):} &      0.119   \\\\\n",
       "\\textbf{Method:}            &  Least Squares   & \\textbf{  F-statistic:       }          &      1533.   \\\\\n",
       "\\textbf{Date:}              & Sun, 28 Sep 2025 & \\textbf{  Prob (F-statistic):}          &      0.00    \\\\\n",
       "\\textbf{Time:}              &     11:10:06     & \\textbf{  Log-Likelihood:    }          & -4.4615e+05  \\\\\n",
       "\\textbf{No. Observations:}  &       22676      & \\textbf{  AIC:               }          &  8.923e+05   \\\\\n",
       "\\textbf{Df Residuals:}      &       22674      & \\textbf{  BIC:               }          &  8.923e+05   \\\\\n",
       "\\textbf{Df Model:}          &           2      & \\textbf{                     }          &              \\\\\n",
       "\\textbf{Covariance Type:}   &    nonrobust     & \\textbf{                     }          &              \\\\\n",
       "\\bottomrule\n",
       "\\end{tabular}\n",
       "\\begin{tabular}{lcccccc}\n",
       "                            & \\textbf{coef} & \\textbf{std err} & \\textbf{t} & \\textbf{P$> |$t$|$} & \\textbf{[0.025} & \\textbf{0.975]}  \\\\\n",
       "\\midrule\n",
       "\\textbf{Minutes\\_to\\_metro} &    9.011e+05  &     6.42e+04     &    14.045  &         0.000        &     7.75e+05    &     1.03e+06     \\\\\n",
       "\\textbf{Number\\_of\\_floors} &    1.094e+06  &     4.47e+04     &    24.448  &         0.000        &     1.01e+06    &     1.18e+06     \\\\\n",
       "\\bottomrule\n",
       "\\end{tabular}\n",
       "\\begin{tabular}{lclc}\n",
       "\\textbf{Omnibus:}       & 29267.613 & \\textbf{  Durbin-Watson:     } &      1.030   \\\\\n",
       "\\textbf{Prob(Omnibus):} &    0.000  & \\textbf{  Jarque-Bera (JB):  } & 7733827.756  \\\\\n",
       "\\textbf{Skew:}          &    7.098  & \\textbf{  Prob(JB):          } &       0.00   \\\\\n",
       "\\textbf{Kurtosis:}      &   92.353  & \\textbf{  Cond. No.          } &       2.91   \\\\\n",
       "\\bottomrule\n",
       "\\end{tabular}\n",
       "%\\caption{OLS Regression Results}\n",
       "\\end{center}\n",
       "\n",
       "Notes: \\newline\n",
       " [1] R² is computed without centering (uncentered) since the model does not contain a constant. \\newline\n",
       " [2] Standard Errors assume that the covariance matrix of the errors is correctly specified."
      ],
      "text/plain": [
       "<class 'statsmodels.iolib.summary.Summary'>\n",
       "\"\"\"\n",
       "                                 OLS Regression Results                                \n",
       "=======================================================================================\n",
       "Dep. Variable:                  Price   R-squared (uncentered):                   0.119\n",
       "Model:                            OLS   Adj. R-squared (uncentered):              0.119\n",
       "Method:                 Least Squares   F-statistic:                              1533.\n",
       "Date:                Sun, 28 Sep 2025   Prob (F-statistic):                        0.00\n",
       "Time:                        11:10:06   Log-Likelihood:                     -4.4615e+05\n",
       "No. Observations:               22676   AIC:                                  8.923e+05\n",
       "Df Residuals:                   22674   BIC:                                  8.923e+05\n",
       "Df Model:                           2                                                  \n",
       "Covariance Type:            nonrobust                                                  \n",
       "====================================================================================\n",
       "                       coef    std err          t      P>|t|      [0.025      0.975]\n",
       "------------------------------------------------------------------------------------\n",
       "Minutes_to_metro  9.011e+05   6.42e+04     14.045      0.000    7.75e+05    1.03e+06\n",
       "Number_of_floors  1.094e+06   4.47e+04     24.448      0.000    1.01e+06    1.18e+06\n",
       "==============================================================================\n",
       "Omnibus:                    29267.613   Durbin-Watson:                   1.030\n",
       "Prob(Omnibus):                  0.000   Jarque-Bera (JB):          7733827.756\n",
       "Skew:                           7.098   Prob(JB):                         0.00\n",
       "Kurtosis:                      92.353   Cond. No.                         2.91\n",
       "==============================================================================\n",
       "\n",
       "Notes:\n",
       "[1] R² is computed without centering (uncentered) since the model does not contain a constant.\n",
       "[2] Standard Errors assume that the covariance matrix of the errors is correctly specified.\n",
       "\"\"\""
      ]
     },
     "execution_count": 37,
     "metadata": {},
     "output_type": "execute_result"
    }
   ],
   "source": [
    "model = sm.OLS(Y, X).fit()\n",
    "model.summary()"
   ]
  },
  {
   "cell_type": "code",
   "execution_count": null,
   "id": "36760c87-9474-4cf1-9486-28a65e64b56d",
   "metadata": {},
   "outputs": [],
   "source": []
  },
  {
   "cell_type": "markdown",
   "id": "b064115a-6159-484d-a580-cebf4492cafe",
   "metadata": {},
   "source": [
    "Метод важности признаков"
   ]
  },
  {
   "cell_type": "markdown",
   "id": "f3931b59-d8ba-4c20-b684-109b118e6450",
   "metadata": {},
   "source": [
    "**СОХРАНИ require.txt заново!**"
   ]
  },
  {
   "cell_type": "code",
   "execution_count": null,
   "id": "de30fea1-6f95-495c-890e-f8aca5153ec4",
   "metadata": {},
   "outputs": [],
   "source": []
  },
  {
   "cell_type": "code",
   "execution_count": null,
   "id": "ee86289e-7eff-4355-9b23-9996f59a173b",
   "metadata": {},
   "outputs": [],
   "source": []
  },
  {
   "cell_type": "code",
   "execution_count": null,
   "id": "381efdbb-0f02-4ffd-be0b-f6e0191a4eec",
   "metadata": {},
   "outputs": [],
   "source": []
  },
  {
   "cell_type": "code",
   "execution_count": null,
   "id": "363b4ac6-9277-438f-a5aa-71c7a527a3aa",
   "metadata": {},
   "outputs": [],
   "source": []
  },
  {
   "cell_type": "code",
   "execution_count": null,
   "id": "80dc43f2-566a-4b14-90c1-114491bf0f9b",
   "metadata": {},
   "outputs": [],
   "source": []
  },
  {
   "cell_type": "code",
   "execution_count": null,
   "id": "b1d96dcf-dab7-4529-ae4c-26d238198e2d",
   "metadata": {},
   "outputs": [],
   "source": []
  }
 ],
 "metadata": {
  "kernelspec": {
   "display_name": "Python 3 (ipykernel)",
   "language": "python",
   "name": "python3"
  },
  "language_info": {
   "codemirror_mode": {
    "name": "ipython",
    "version": 3
   },
   "file_extension": ".py",
   "mimetype": "text/x-python",
   "name": "python",
   "nbconvert_exporter": "python",
   "pygments_lexer": "ipython3",
   "version": "3.13.5"
  }
 },
 "nbformat": 4,
 "nbformat_minor": 5
}
